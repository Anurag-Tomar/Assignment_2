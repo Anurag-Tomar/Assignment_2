{
  "nbformat": 4,
  "nbformat_minor": 0,
  "metadata": {
    "colab": {
      "name": "Assignment_2.ipynb",
      "provenance": []
    },
    "kernelspec": {
      "name": "python3",
      "display_name": "Python 3"
    },
    "language_info": {
      "name": "python"
    }
  },
  "cells": [
    {
      "cell_type": "code",
      "execution_count": null,
      "metadata": {
        "id": "VPVKkfW0t0bq"
      },
      "outputs": [],
      "source": [
        "##1.What are the two values of the Boolean data type? How do you write them?"
      ]
    },
    {
      "cell_type": "markdown",
      "source": [
        "There are two Boolean values: True and False. Values in Python can be compared using comparison operations, and Boolean logic can be formulated with the use of logic operations.\n"
      ],
      "metadata": {
        "id": "CKuZ3H8ZuFhD"
      }
    },
    {
      "cell_type": "markdown",
      "source": [
        "2. What are the three different types of Boolean operators?\n",
        "\n",
        "Ans: The three types of boolean operators are AND,OR ,and NOT."
      ],
      "metadata": {
        "id": "Mn5eBUNhuD2k"
      }
    },
    {
      "cell_type": "markdown",
      "source": [
        "3. Make a list of each Boolean operator's truth tables (i.e. every possible combination of Boolean values for the operator and what it evaluate ).\n",
        "\n",
        "Ans:\n",
        "\n",
        "![image.png](data:image/png;base64,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)"
      ],
      "metadata": {
        "id": "Hp7SY3H7vVbs"
      }
    },
    {
      "cell_type": "markdown",
      "source": [
        "4. What are the values of the following expressions?\n",
        "\n",
        "Ans:\n",
        "\n",
        "(5 > 4) and (3 == 5)                  False\n",
        "\n",
        "not (5 > 4)                           False\n",
        "\n",
        "(5 > 4) or (3 == 5)                   True\n",
        "\n",
        "not ((5 > 4) or (3 == 5))             False\n",
        "\n",
        "(True and True) and (True == False)   False\n",
        "\n",
        "(not False) or (not True)             True\n"
      ],
      "metadata": {
        "id": "bwFaS3ckwgF5"
      }
    },
    {
      "cell_type": "markdown",
      "source": [
        "5. What are the six comparison operators?\n",
        "\n",
        "\n",
        "Ans: The six comparison operators are: > , < , >= , <= , === , and !== ."
      ],
      "metadata": {
        "id": "7FB_oTDSx0su"
      }
    },
    {
      "cell_type": "markdown",
      "source": [
        "6. How do you tell the difference between the equal to and assignment operators?Describe a condition and when you would use one.\n",
        "\n",
        "Ans:\n",
        "\n",
        "The '=' is the assignment operator and is used to assign the result of the expression on the right side of the operator to the variable on the left side. The '=='equality comparison operator and is used to check whether the two expressions on both sides are equal or not.\n",
        "Example: a=5 means a has been assigned value 5\n",
        "         a==5 mean a is equal to 5"
      ],
      "metadata": {
        "id": "PU_xEitBySvm"
      }
    },
    {
      "cell_type": "markdown",
      "source": [
        "7. Identify the three blocks in this code:\n",
        "spam = 0\n",
        "if spam == 10:\n",
        "print('eggs')\n",
        "if spam > 5:\n",
        "print('bacon')\n",
        "else:\n",
        "print('ham')\n",
        "print('spam')\n",
        "print('spam')\n",
        "\n",
        "\n",
        "Ans:\n",
        "\n",
        "1st block:\n",
        "\n",
        "if spam == 10:\n",
        "\n",
        "print('eggs')\n",
        "\n",
        "2nd block: \n",
        "\n",
        "if spam > 5:\n",
        "\n",
        "print('bacon')\n",
        "\n",
        "3rd Block:\n",
        "\n",
        "else:\n",
        "print('ham')\n",
        "\n",
        "print('spam')\n",
        "\n",
        "print('spam')\n"
      ],
      "metadata": {
        "id": "QMzwfDfvzLOH"
      }
    },
    {
      "cell_type": "markdown",
      "source": [
        "8. Write code that prints Hello if 1 is stored in spam, prints Howdy if 2 is stored in spam, and prints Greetings! if anything else is stored in spam.\n",
        "\n"
      ],
      "metadata": {
        "id": "JzXgTjb50EKw"
      }
    },
    {
      "cell_type": "code",
      "source": [
        "#Ans:\n",
        "spam=int(input(\"Put your choice number \"))\n",
        "if spam ==1:\n",
        "  print(\"Hello\")\n",
        "elif spam == 2:\n",
        "  print(\"Howdy\")\n",
        "else:\n",
        "  print(\"Greetings\")\n",
        "\n"
      ],
      "metadata": {
        "colab": {
          "base_uri": "https://localhost:8080/"
        },
        "id": "O0XgCC5N0Gcn",
        "outputId": "6ac1118c-1290-4cf6-8a44-3aa7c36c23bf"
      },
      "execution_count": 12,
      "outputs": [
        {
          "output_type": "stream",
          "name": "stdout",
          "text": [
            "Put your choice number 2\n",
            "Howdy\n"
          ]
        }
      ]
    }
  ]
}